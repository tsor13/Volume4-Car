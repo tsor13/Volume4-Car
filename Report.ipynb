{
 "cells": [
  {
   "cell_type": "markdown",
   "metadata": {
    "id": "-Unwop8KadJc"
   },
   "source": [
    "# Volume 4 - Self-Driving Car\n",
    "Group members: Jalen Morgan, Sophia Rawlings, Amy Eubanks, Josh Lapicola, Taylor Sorensen\n",
    "# Abstract\n",
    "\n",
    "# Background\n",
    "\n",
    "\n",
    "# Mathematical Representation"
   ]
  },
  {
   "cell_type": "markdown",
   "metadata": {
    "id": "mGGm0vVIHQzg"
   },
   "source": [
    "Our variables are $x, y, v_x,$ and $v_y$. Our control variables are $u_x$ and $u_y$.\n",
    "\n",
    "Each of the $N$ cones is represented with their x and y position here as $x_i$, and  $y_i$.\n",
    "\n",
    "Then we will minimize\n",
    "$$J[u] = \\int_0^{t_f}[k_a(u_x^2 + u_y^2)+\\sum_{i \\in {1,...,N}} \\frac{k_c}{(x_i - x)^2 + (y_i - y)^2} + 1]dt$$\n",
    "\n",
    "satisfying:\n",
    "$$ x' = v_x$$ $$y' = v_y$$ $$v_x' = u_x$$ $$v_y' = u_y$$\n",
    "with endpoint conditions:\n",
    "$$ x(0) = x_0, y(0) = y_0, x(t_f) = x_f, y(t_f) = y_f,$$ $$v_x(0)=v_y(0)=v_x(t_f)=v_y(t_f)=0$$\n"
   ]
  },
  {
   "cell_type": "markdown",
   "metadata": {
    "id": "UfaJL55aaf4j"
   },
   "source": [
    "# Solution\n",
    "### Deriving the Solution"
   ]
  },
  {
   "cell_type": "markdown",
   "metadata": {
    "id": "BUqXCt3LZjjp"
   },
   "source": [
    "That makes our Hamiltonian:\n",
    "$$ H = p_1v_x + p_2v_y + p_3u_x + p_4u_y - k_a(u_x^2 + u_y^2)-\\sum_{i \\in {1,...,N}} \\frac{k_c}{(x_i - x)^2 + (y_i - y)^2} - 1$$\n",
    "\n",
    "Since $u$ maximizes the Hamiltonian,\n",
    "$H_{u_x} = p_3 - 2k_au_x$ and $H_{u_y} = p_4 - 2k_au_y$.\n",
    "\n",
    "Therefore, $$u_x = \\frac{p_3}{2k_a},u_y = \\frac{p_4}{2k_a}$$\n",
    "\n",
    "Then it follows that\n",
    "$$H = p_1v_x + p_2v_y + \\frac{p_3^2}{4k_a} + \\frac{p_4^2}{4k_a}-\\sum_{i \\in {1,...,N}} \\frac{k_c}{(x_i - x)^2 + (y_i - y)^2} - 1$$\n",
    "\n",
    "We then get the following costate equations:\n",
    "$$p_1' = \\sum_{i \\in {1,...,N}}\\frac{2k_c(x_i - x)}{((x_i - x)^2 + (y_i - y)^2)^2}$$\n",
    "$$p_2' = \\sum_{i \\in {1,...,N}}\\frac{2k_c(y_i - y)}{((x_i - x)^2 + (y_i - y)^2)^2}$$\n",
    "$$p_3' = -p_1$$\n",
    "$$p_4' = -p_2$$\n",
    "\n",
    "\n",
    "Since $t_f$ is not fixed, we derive a third constraint: $$H(t_f) = p_1(t_f)v_x(t_f) + p_2(t_f)v_y(t_f) + \\frac{p_3(t_f)^2}{4k_a} + \\frac{p_4(t_f)^2}{4k_a}-\\sum_{i \\in {1,...,N}} \\frac{k_c}{(x_i - x(t_f))^2 + (y_i - y(t_f))^2} - 1 = 0$$\n"
   ]
  },
  {
   "cell_type": "markdown",
   "metadata": {
    "id": "vSL-KNaZcpoF"
   },
   "source": [
    "### Solution Examples\n",
    "\n",
    "For the following examples, we randomly generated cones (obstacles) to avoid in the [0,1]x[0,1] region. We start the car at position (0,0) with (0,0) velocity, and task it with reaching position (1,1) with (0,0) velocity, with $t_f$ free. Here are some solutions we found:\n",
    "\n",
    "#### Solution 1\n",
    "![alt text](images/plot1.png)\n",
    "Final time: $t_f = 0.54$\n",
    "\n",
    "Notice how the car successfully avoids the obstacles, changing its path slightly to stay clear of the obstacles. It not only doesn't collide, but stays far away. It also reaches the destination in about a half second.\n",
    "\n",
    "\n",
    "#### Solution 2\n",
    "![alt text](images/plot2.png)\n",
    "Final time: $t_f = 0.62$\n",
    "\n",
    "In this case, it picks an aesthetically pleasing path that goes right inbetween two obstacles. Note as well that the gap that it chooses to cross is the widest gap near the middle."
   ]
  },
  {
   "cell_type": "code",
   "execution_count": null,
   "metadata": {
    "id": "5Rwa3-aFeeku"
   },
   "outputs": [],
   "source": []
  }
 ],
 "metadata": {
  "colab": {
   "collapsed_sections": [
    "oFvhiSglaQud",
    "KlX6hbEr0BXL"
   ],
   "name": "MathematicalDescription_Updated.ipynb",
   "provenance": []
  },
  "kernelspec": {
   "display_name": "Python 3",
   "language": "python",
   "name": "python3"
  },
  "language_info": {
   "codemirror_mode": {
    "name": "ipython",
    "version": 3
   },
   "file_extension": ".py",
   "mimetype": "text/x-python",
   "name": "python",
   "nbconvert_exporter": "python",
   "pygments_lexer": "ipython3",
   "version": "3.8.2"
  }
 },
 "nbformat": 4,
 "nbformat_minor": 1
}
